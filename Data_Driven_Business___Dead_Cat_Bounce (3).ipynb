{
  "nbformat": 4,
  "nbformat_minor": 0,
  "metadata": {
    "colab": {
      "name": "Data-Driven Business | Dead Cat Bounce.ipynb",
      "provenance": [],
      "collapsed_sections": [
        "GUy8MNNL-QBa",
        "-VcQyHNRj6Av",
        "fzIIQHajkJd0",
        "Po1NpfgLkPDs"
      ]
    },
    "kernelspec": {
      "display_name": "Python 3",
      "name": "python3"
    }
  },
  "cells": [
    {
      "cell_type": "markdown",
      "metadata": {
        "id": "QWuk4VQyaygW"
      },
      "source": [
        "#**Analysis of a Dead Cat Bounce for the stock market with focus on the S&P 500**\n",
        "\n",
        "\n"
      ]
    },
    {
      "cell_type": "markdown",
      "metadata": {
        "id": "QoGTLRR_t3sc"
      },
      "source": [
        "# **Business Understanding**"
      ]
    },
    {
      "cell_type": "markdown",
      "metadata": {
        "id": "-kig9WSjt6-Y"
      },
      "source": [
        "**What is our main goal with this project?**\n",
        "\n",
        "\n",
        "> Offer possibilities for short-term trades.\n",
        "\n",
        "> Indicate false recovery and alert long-term trades to not invest. \n",
        "\n"
      ]
    },
    {
      "cell_type": "markdown",
      "metadata": {
        "id": "Fp4zuSbGj0tw"
      },
      "source": [
        "# **Data Preperation**"
      ]
    },
    {
      "cell_type": "markdown",
      "metadata": {
        "id": "1v2S-_X1r4pK"
      },
      "source": [
        "Installing all necessary dependencies for the project. Packages for RFT are listed seperately.\n",
        "\n"
      ]
    },
    {
      "cell_type": "code",
      "metadata": {
        "id": "1INk7T3oUgqw"
      },
      "source": [
        "#Install the dependencies\n",
        "import numpy as np \n",
        "import pandas as pd\n",
        "import os, io\n",
        "import plotly.graph_objs as go\n",
        "import datetime as dt\n",
        "import requests\n",
        "import pandas_datareader.data as web\n",
        "from sklearn.tree import DecisionTreeRegressor\n",
        "from sklearn.linear_model import LinearRegression\n",
        "from sklearn.model_selection import train_test_split\n",
        "from sklearn.ensemble import RandomForestClassifier\n",
        "from sklearn.metrics import accuracy_score\n",
        "from sklearn.metrics import classification_report\n",
        "import matplotlib.pyplot as plt"
      ],
      "execution_count": null,
      "outputs": []
    },
    {
      "cell_type": "markdown",
      "metadata": {
        "id": "n89vhhk4VOBe"
      },
      "source": [
        "\n",
        "\n",
        "---\n",
        "\n",
        "\n",
        "*   Main usage of yahoo finance API.\n",
        "*   Working with the S&P500 stock.\n",
        "*   Data is generated automatically.\n",
        "*   Time period flexible.\n",
        "\n",
        "\n",
        "\n",
        "---\n",
        "\n",
        "The S&P500 index consists of the 500 most valuable companies from the USA and combines them in an index. Therefore specific market movements are more average. It helps to train the model faster and better."
      ]
    },
    {
      "cell_type": "code",
      "metadata": {
        "id": "8mow2Dp-O6Vh",
        "colab": {
          "base_uri": "https://localhost:8080/",
          "height": 231
        },
        "outputId": "cf843e7a-f2dc-41fc-b903-812dbee2c7fa"
      },
      "source": [
        "stock_id = 'PLUG'\n",
        "\n",
        "start = dt.datetime(2019,1,1)\n",
        "end = dt.datetime.now()\n",
        "end_test = dt.datetime(2020,3,15)\n",
        "\n",
        "stock = web.DataReader(stock_id, 'yahoo', start, end)\n",
        "df = stock\n",
        "df.dropna(inplace=True)"
      ],
      "execution_count": null,
      "outputs": [
        {
          "output_type": "error",
          "ename": "NameError",
          "evalue": "ignored",
          "traceback": [
            "\u001b[0;31m---------------------------------------------------------------------------\u001b[0m",
            "\u001b[0;31mNameError\u001b[0m                                 Traceback (most recent call last)",
            "\u001b[0;32m<ipython-input-1-ae7916b9a54f>\u001b[0m in \u001b[0;36m<module>\u001b[0;34m()\u001b[0m\n\u001b[1;32m      1\u001b[0m \u001b[0mstock_id\u001b[0m \u001b[0;34m=\u001b[0m \u001b[0;34m'PLUG'\u001b[0m\u001b[0;34m\u001b[0m\u001b[0;34m\u001b[0m\u001b[0m\n\u001b[1;32m      2\u001b[0m \u001b[0;34m\u001b[0m\u001b[0m\n\u001b[0;32m----> 3\u001b[0;31m \u001b[0mstart\u001b[0m \u001b[0;34m=\u001b[0m \u001b[0mdt\u001b[0m\u001b[0;34m.\u001b[0m\u001b[0mdatetime\u001b[0m\u001b[0;34m(\u001b[0m\u001b[0;36m2019\u001b[0m\u001b[0;34m,\u001b[0m\u001b[0;36m1\u001b[0m\u001b[0;34m,\u001b[0m\u001b[0;36m1\u001b[0m\u001b[0;34m)\u001b[0m\u001b[0;34m\u001b[0m\u001b[0;34m\u001b[0m\u001b[0m\n\u001b[0m\u001b[1;32m      4\u001b[0m \u001b[0mend\u001b[0m \u001b[0;34m=\u001b[0m \u001b[0mdt\u001b[0m\u001b[0;34m.\u001b[0m\u001b[0mdatetime\u001b[0m\u001b[0;34m.\u001b[0m\u001b[0mnow\u001b[0m\u001b[0;34m(\u001b[0m\u001b[0;34m)\u001b[0m\u001b[0;34m\u001b[0m\u001b[0;34m\u001b[0m\u001b[0m\n\u001b[1;32m      5\u001b[0m \u001b[0mend_test\u001b[0m \u001b[0;34m=\u001b[0m \u001b[0mdt\u001b[0m\u001b[0;34m.\u001b[0m\u001b[0mdatetime\u001b[0m\u001b[0;34m(\u001b[0m\u001b[0;36m2020\u001b[0m\u001b[0;34m,\u001b[0m\u001b[0;36m3\u001b[0m\u001b[0;34m,\u001b[0m\u001b[0;36m15\u001b[0m\u001b[0;34m)\u001b[0m\u001b[0;34m\u001b[0m\u001b[0;34m\u001b[0m\u001b[0m\n",
            "\u001b[0;31mNameError\u001b[0m: name 'dt' is not defined"
          ]
        }
      ]
    },
    {
      "cell_type": "markdown",
      "metadata": {
        "id": "hV4efhMRVQLb"
      },
      "source": [
        "**Data Modelling for:**\n",
        "\n",
        "\n",
        "*   Moving Averages (EMA)\n",
        "*   MACD\n",
        "*   Signalline\n",
        "*   Histogram\n",
        "*   Bollinger Bands\n",
        "*   Decision Tree\n",
        "*   Dead Cat Bounce\n",
        "\n"
      ]
    },
    {
      "cell_type": "code",
      "metadata": {
        "id": "Zmozz-EHUjBq"
      },
      "source": [
        "indicator = pd.DataFrame(df, index=df.index)\n",
        "\n",
        "# 30 day\n",
        "short_window = 30\n",
        "# 50 day\n",
        "long_window = 50\n",
        "# 20 day\n",
        "bollinger_avg = 20\n",
        "\n",
        "# Exponential moving averages using the closing data\n",
        "indicator['short_avg'] = df['Close'].ewm(span=short_window, adjust=False).mean()\n",
        "indicator['long_avg'] = df['Close'].ewm(span=long_window, adjust=False).mean()\n",
        "\n",
        "# Defining bollinger averages for 20 days.\n",
        "indicator['bollinger_avg'] = df['Close'].ewm(span=bollinger_avg, adjust=False).mean()\n",
        "\n",
        "# Compute EMA by defining short- and long average. 12 days and 26 days\n",
        "indicator['ema_short_avg'] = df['Close'].ewm(span=12, adjust=False).mean()\n",
        "indicator['ema_long_avg'] = df['Close'].ewm(span=26, adjust=False).mean()\n",
        "\n",
        "# Get MACD by dividing EMA (12 days) - EMA (26 days)\n",
        "indicator['macd'] = indicator['ema_short_avg'] - indicator['ema_long_avg']\n",
        "\n",
        "# Another parameter is the signal line with a smoothing of nine days, which is calculated as a moving average of the MACD line.\n",
        "indicator['signalline'] = indicator['macd'].ewm(span=9, adjust=False).mean()\n",
        "\n",
        "# Used to project histogram and identify falling or rising movements. Important to correctly analyze a Dead-Cat-Bounce\n",
        "# Info: *2 is used for better visualization\n",
        "indicator['histogram_macd_signalline'] = (indicator['macd'] - indicator['signalline'])*2\n",
        "\n",
        "# Calculate 30 Day Moving Average, Std Deviation, Upper Band and Lower Band\n",
        "indicator['short_avg_ma'] = df['Close'].rolling(window=bollinger_avg).mean()\n",
        "\n",
        "# Calculate short average standard deviation for plotting bollinger (avg) bands\n",
        "indicator['short_avg_std'] = df['Close'].rolling(window=bollinger_avg).std()\n",
        "\n",
        "# calculate upper and lower band \n",
        "indicator['upper_band'] = indicator['short_avg_ma'] + (indicator['short_avg_std'] *2)\n",
        "indicator['lower_band'] = indicator['short_avg_ma'] - (indicator['short_avg_std'] *2)"
      ],
      "execution_count": null,
      "outputs": []
    },
    {
      "cell_type": "markdown",
      "metadata": {
        "id": "GUy8MNNL-QBa"
      },
      "source": [
        "# **Telegram Bot Setup**"
      ]
    },
    {
      "cell_type": "code",
      "metadata": {
        "id": "sYTkpfBL-PRb"
      },
      "source": [
        "def send_push(text):\n",
        "    \n",
        "    # Change the strings: <TOKEN> and <CHAT_ID>, with your token and chat_id\n",
        "    bot_token_id = 'token'\n",
        "    bot_chat_id = 'chat'\n",
        "    \n",
        "    send_text = 'https://api.telegram.org/bot' + bot_token_id + '/sendMessage?chat_id=' + bot_chat_id + '&parse_mode=Markdown&text=' + text\n",
        "    \n",
        "    response = requests.get(send_text)\n",
        "\n",
        "    return response.json()"
      ],
      "execution_count": null,
      "outputs": []
    },
    {
      "cell_type": "markdown",
      "metadata": {
        "id": "-VcQyHNRj6Av"
      },
      "source": [
        "# **Method Gathering (mainly for plots)**"
      ]
    },
    {
      "cell_type": "markdown",
      "metadata": {
        "id": "lWlFVXapvGNb"
      },
      "source": [
        "This section is used to build methods which will support further reading."
      ]
    },
    {
      "cell_type": "code",
      "metadata": {
        "id": "D55ZK_PlQxR6"
      },
      "source": [
        "# Build methods for plotting more easily graphs\n",
        "def figure_add_trace(figure, indicator, name, color):\n",
        "  figure.add_trace(go.Scatter(x=df.index,\n",
        "                              y=indicator,\n",
        "                              mode='lines',\n",
        "                              name=name,\n",
        "                              line=go.scatter.Line(color=color)))\n",
        "  \n",
        "def figure_add_fill_trace(figure, indicator, fill, name, color):\n",
        "  figure.add_trace(go.Scatter(x=df.index,\n",
        "                              y=indicator,\n",
        "                              fill=fill,\n",
        "                              name=name,\n",
        "                              mode='lines',\n",
        "                              fillcolor='rgba(220,220,220,0.5)',\n",
        "                              line_color=color))\n",
        "\n",
        "def figure_update_layout(figure, name, xaxis_label, yaxis_label):\n",
        "  figure.update_layout(\n",
        "      title=name, \n",
        "      xaxis_title=xaxis_label,\n",
        "      yaxis_title=yaxis_label,\n",
        "      xaxis_rangeslider_visible=False,\n",
        "      )"
      ],
      "execution_count": null,
      "outputs": []
    },
    {
      "cell_type": "markdown",
      "metadata": {
        "id": "fzIIQHajkJd0"
      },
      "source": [
        "# **Moving Averages & Bollinger Bands**"
      ]
    },
    {
      "cell_type": "markdown",
      "metadata": {
        "id": "xT438CkTMoJI"
      },
      "source": [
        "**What is a Moving Average (MA)?**\n",
        "\n",
        "\n",
        "> In statistics, a moving average is a calculation used to analyze data points by creating a series of averages of different subsets of the full data set.\n",
        "\n",
        "> The reason for calculating the moving average of a stock is to help smooth out the price data by creating a constantly updated average price.\n",
        "\n",
        "> Moving averages are usually calculated to identify the trend direction of a stock or to determine its support and resistance levels. It is a trend-following—or lagging—indicator because it is based on past prices.\n",
        "\n",
        "\n",
        "\n",
        "---\n",
        "\n",
        "\n",
        "**What are the so called \"Bollinger Bands\"?**\n",
        "\n",
        "\n",
        "> A Bollinger Band is a technical analysis tool defined by a set of trendlines plotted two standard deviations (positively and negatively) away from a simple moving average (SMA) of a security's price, but which can be adjusted to user preferences.\n",
        "\n",
        "> Many traders believe the closer the prices move to the upper band, the more overbought the market, and the closer the prices move to the lower band, the more oversold the market.\n",
        "\n",
        "> The Bollinger Bands basically create a dynamic trend, as the moving average moves continuously and follows the movements of the underlying asset. Therefore, in volatile times, the spacing of the Bollinger Bands is relatively wide and in calm market phases, it is much smaller.\n",
        "\n",
        "\n",
        "\n"
      ]
    },
    {
      "cell_type": "code",
      "metadata": {
        "id": "eD4Rg9GUKQRA"
      },
      "source": [
        "# S&P500 Stock\n",
        "figure_stock = go.Figure(data=[\n",
        "                               go.Candlestick(\n",
        "                                   x=df.index,\n",
        "                                       open=df['Open'],\n",
        "                                       high=df['High'],\n",
        "                                       low=df['Low'],\n",
        "                                       close=df['Close'],\n",
        "                                       name='S&P 500'),\n",
        "                               ])"
      ],
      "execution_count": null,
      "outputs": []
    },
    {
      "cell_type": "code",
      "metadata": {
        "id": "yyOPpO4-swCg"
      },
      "source": [
        "figure_add_fill_trace(figure_stock, indicator['upper_band'], None, 'Lower Band', 'lightgrey')\n",
        "figure_add_fill_trace(figure_stock, indicator['lower_band'], 'tonexty', 'Upper Band', 'lightgrey')\n",
        "figure_add_trace(figure_stock, indicator['bollinger_avg'], 'Bollinger Average', 'black')\n",
        "\n",
        "figure_add_trace(figure_stock, indicator['short_avg'], '30 Days Average', 'yellow')\n",
        "figure_add_trace(figure_stock, indicator['long_avg'], '50 Days Average', 'purple')\n",
        "figure_update_layout(figure_stock, 'Stock Movement for S&P500', 'Date', 'Stock Price')"
      ],
      "execution_count": null,
      "outputs": []
    },
    {
      "cell_type": "markdown",
      "metadata": {
        "id": "Po1NpfgLkPDs"
      },
      "source": [
        "# **MACD & Signalline**"
      ]
    },
    {
      "cell_type": "markdown",
      "metadata": {
        "id": "UyoTXkUhvXUa"
      },
      "source": [
        "**What is the MACD & the Signalline?**\n",
        "\n",
        "\n",
        "The MACD turns two trend-following indicator, moving averages, into a momentum oscillator by subtracting the longer moving average from the shorter one. As a result, the MACD offers trend following and momentum for the stock market.\n",
        "The MACD fluctuates above and below the zero line as the moving averages converge, cross and diverge. MACD is all about the convergence and divergence of the two moving averages.\n",
        "\n",
        "\n",
        "\n",
        "---\n",
        "Calculation:\n",
        "> MACD Line: (12-day EMA - 26-day EMA): Time period is flexible and depends on trading style.\n",
        "\n",
        "> Signal Line: 9-day EMA of MACD Line\n",
        "\n",
        "> MACD Histogram: MACD Line - Signal Line\n",
        "\n",
        "\n",
        "---\n",
        "Why should we use the MACD for understanding the Dead-Cat-Bounce?\n",
        "> If Signal-Line is bigger than MACD, the market tends to fall.\n",
        "\n",
        "> Dead-Cat-Bounce spotable by plotting histogram.\n",
        "\n",
        "> Crossovers represent a change in market movement. \n",
        "\n",
        "\n",
        "\n",
        "\n"
      ]
    },
    {
      "cell_type": "code",
      "metadata": {
        "id": "HEYswcT4KlVf"
      },
      "source": [
        "# Graph with MACD, Signalline and Histrogram\n",
        "figure_macd = go.Figure()\n",
        "figure_add_trace(figure_macd, indicator['macd'], 'MACD', 'blue')\n",
        "figure_add_trace(figure_macd, indicator['signalline'], 'Signal-Line (SL)', 'red')\n",
        "\n",
        "figure_macd.add_trace(go.Bar(x=df.index,\n",
        "                        y=indicator['histogram_macd_signalline'],\n",
        "                        name='MACD - SL',\n",
        "                        textposition='auto',\n",
        "                        marker_color='lightslategray'))\n",
        "\n",
        "figure_update_layout(figure_macd, 'MACD and Signal-Line for S&P500', 'Date', '')"
      ],
      "execution_count": null,
      "outputs": []
    },
    {
      "cell_type": "markdown",
      "metadata": {
        "id": "btSIqxEdPEUH"
      },
      "source": [
        "# **Dead Cat Bounce Calculation**"
      ]
    },
    {
      "cell_type": "markdown",
      "metadata": {
        "id": "85t2bBJYPfEs"
      },
      "source": [
        "**What conditions should be considered to analyze a dead-cat-bounce?**\n",
        "\n",
        "\n",
        "> Price is already in a downward trend (bear market).\n",
        "\n",
        "> A Dead Cat Bounce occurs when the price tips down 5% or more, continues to fall, but then experiences a rally.\n",
        "\n"
      ]
    },
    {
      "cell_type": "code",
      "metadata": {
        "id": "e_Eid3y6KB0n"
      },
      "source": [
        "def cal_average(num):\n",
        "    sum_num = 0\n",
        "    for t in num:\n",
        "        sum_num = sum_num + t           \n",
        "\n",
        "    avg = sum_num / len(num)\n",
        "    return avg\n",
        "\n",
        "pct_change_avg = cal_average([df['Close'], df['Open']])\n",
        "pct_change_avg"
      ],
      "execution_count": null,
      "outputs": []
    },
    {
      "cell_type": "code",
      "metadata": {
        "id": "ZFzFs4ObM5rq"
      },
      "source": [
        "set_freq = '2D'\n",
        "\n",
        "pct_change_close = df['Close'].pct_change(freq=set_freq, fill_method='ffill')\n",
        "pct_change_open = df['Open'].pct_change(freq=set_freq, fill_method='ffill')\n",
        "\n",
        "pct_change_close.dropna(inplace=True)\n",
        "pct_change_open.dropna(inplace=True)\n",
        "\n",
        "pct_change = pct_change_avg.pct_change(freq=set_freq, fill_method='ffill')\n",
        "\n",
        "dead_cat_bounce = np.where((indicator.signalline > indicator.macd) &\n",
        "                          ((pct_change >= 0.05) | (pct_change <= -0.05)) &\n",
        "                          ((df.Open < indicator.lower_band) | (df.Close < indicator.lower_band)),\n",
        "                          True, False)\n",
        "\n",
        "indicator['dead_cat_bounce'] = dead_cat_bounce\n",
        "\n",
        "dead_cat_bounce = indicator[(indicator['dead_cat_bounce'] == True)]"
      ],
      "execution_count": null,
      "outputs": []
    },
    {
      "cell_type": "code",
      "metadata": {
        "id": "XIKRFV2KtPV5"
      },
      "source": [
        "# Plotting historic dead cat bounce is intended to show the supervisor\n",
        "# that everything is working properly.\n",
        "\n",
        "def plot_dead_cat_bounce():\n",
        "  figure_stock.add_trace(\n",
        "      go.Scatter(\n",
        "          mode='markers',\n",
        "          x=dead_cat_bounce.index,\n",
        "          y=dead_cat_bounce['Open'],\n",
        "          marker_symbol='triangle-down',\n",
        "          marker=dict(\n",
        "              color='Orange',\n",
        "              size=20,\n",
        "              opacity=0.5,\n",
        "              line=dict(\n",
        "                  color='Red',\n",
        "                  width=2)),\n",
        "          showlegend=True,\n",
        "          name='Dead Cat Bounce Without Prediction'))"
      ],
      "execution_count": null,
      "outputs": []
    },
    {
      "cell_type": "markdown",
      "metadata": {
        "id": "O-tyMsT51n_f"
      },
      "source": [
        "# **DECISION-TREE PREDICTION MODEL**\n",
        "\n"
      ]
    },
    {
      "cell_type": "markdown",
      "metadata": {
        "id": "68vLlGTuR12S"
      },
      "source": [
        "> The Decision Tree is used to forecast the movement of the stock market. By giving the odel historical Data as an Input it can Build a Tree and predict Future prizes. The Model is using Knots which are connected with branches which are the different decisions. The solutions are shown as the leaves.\n",
        "\n",
        "> Compare to source: https://randerson112358.medium.com/predict-stock-prices-using-machine-learning-python-f554b7167b36\n"
      ]
    },
    {
      "cell_type": "code",
      "metadata": {
        "id": "kKk4oyD9ETKz"
      },
      "source": [
        "df_rf = stock\n",
        "df_rf.dropna(inplace=True)"
      ],
      "execution_count": null,
      "outputs": []
    },
    {
      "cell_type": "code",
      "metadata": {
        "id": "10VChXMPzU6m"
      },
      "source": [
        "df_prediction = stock\n",
        "\n",
        "#Create a variable to predict 'x' days out into the future\n",
        "future_days = 25\n",
        "\n",
        "#Create a new column (the target or dependent variable) shifted 'x' units/days up\n",
        "df_prediction['Prediction'] = df_prediction[['Close']].shift(-future_days)"
      ],
      "execution_count": null,
      "outputs": []
    },
    {
      "cell_type": "code",
      "metadata": {
        "id": "sM6QWTmBzdFy"
      },
      "source": [
        "X = np.array(df_prediction.drop(['Prediction'], 1))[:-future_days]"
      ],
      "execution_count": null,
      "outputs": []
    },
    {
      "cell_type": "code",
      "metadata": {
        "id": "GLYPz8rwBKrO"
      },
      "source": [
        "y = np.array(df_prediction['Prediction'])[:-future_days]"
      ],
      "execution_count": null,
      "outputs": []
    },
    {
      "cell_type": "code",
      "metadata": {
        "id": "HqJqP4vJzfdI"
      },
      "source": [
        "#Splitting the Date (25% Testdata/75% Trainingdata)\n",
        "x_train, x_test, y_train, y_test = train_test_split(X, y, test_size = 0.25)\n"
      ],
      "execution_count": null,
      "outputs": []
    },
    {
      "cell_type": "code",
      "metadata": {
        "id": "9BXaamC6zgmP"
      },
      "source": [
        "#Create the decision tree regressor model\n",
        "tree = DecisionTreeRegressor().fit(x_train, y_train)"
      ],
      "execution_count": null,
      "outputs": []
    },
    {
      "cell_type": "code",
      "metadata": {
        "id": "PTx6WnigzjTq"
      },
      "source": [
        "#Get the data of the future\n",
        "x_future = df_prediction.drop(['Prediction'], 1)[:-future_days]\n",
        "\n",
        "#Get the last rows\n",
        "x_future = x_future.tail(future_days) \n",
        "\n",
        "#Convert the data set into a numpy array for using it with the prediction\n",
        "x_future = np.array(x_future)\n",
        "\n",
        "#Set the model tree prediction\n",
        "tree_prediction = tree.predict(x_future)"
      ],
      "execution_count": null,
      "outputs": []
    },
    {
      "cell_type": "code",
      "metadata": {
        "id": "XKARqk0GzpoL"
      },
      "source": [
        "#Plot the data\n",
        "valid =  df_prediction[X.shape[0]:]\n",
        "valid['Prediction'] = tree_prediction \n",
        "  \n",
        "# S&P500 Stock\n",
        "figure_prediction = go.Figure(data=[\n",
        "                               go.Candlestick(\n",
        "                                   x=df.index,\n",
        "                                       open=df['Open'],\n",
        "                                       high=df['High'],\n",
        "                                       low=df['Low'],\n",
        "                                       close=df['Close'],\n",
        "                                       name='S&P 500'),\n",
        "                               ])\n",
        "\n",
        "figure_prediction.add_trace(go.Scatter(x=valid.index,\n",
        "                              y=valid['Prediction'],\n",
        "                              mode='lines',\n",
        "                              name='Prediction',\n",
        "                              line=go.scatter.Line(color='blue')))\n",
        "\n",
        "figure_update_layout(figure_prediction, 'Prediction - Stock Movement', 'Date', 'Stock Price')"
      ],
      "execution_count": null,
      "outputs": []
    },
    {
      "cell_type": "code",
      "metadata": {
        "id": "fx5ImDwHPa40"
      },
      "source": [
        "#Calculate the Mean devation\n",
        "valid['devation']=valid['Close']-valid['Prediction']\n",
        "mean_devation=valid['devation'].sum()/valid['devation'].count()"
      ],
      "execution_count": null,
      "outputs": []
    },
    {
      "cell_type": "code",
      "metadata": {
        "id": "kD4iaI9-PXvA"
      },
      "source": [
        "#Calculating the accuracy \n",
        "accuracy=1-(valid['devation']!=0).sum()/valid['devation'].count()\n",
        "print('Accuracy:\\t\\t\\t',accuracy*100,'%\\nDurchschnittliche Abweichung:\\t',mean_devation)"
      ],
      "execution_count": null,
      "outputs": []
    },
    {
      "cell_type": "markdown",
      "metadata": {
        "id": "NJeC90sxgPQJ"
      },
      "source": [
        "# **Check future days and if the market tends to fall**"
      ]
    },
    {
      "cell_type": "markdown",
      "metadata": {
        "id": "DkwDRT49vYqc"
      },
      "source": [
        "Predict future trend movements by calculating MACD and Signalline."
      ]
    },
    {
      "cell_type": "code",
      "metadata": {
        "id": "m55yNqNbv6Vt"
      },
      "source": [
        "#MACD for future days\n",
        "predict_macd = pd.DataFrame(df, index=df.index)\n",
        "\n",
        "# Compute EMA by defining short- and long average. 12 days and 26 days\n",
        "predict_macd['ema_short_avg'] = valid['Close'].ewm(span=12, adjust=False).mean()\n",
        "predict_macd['ema_long_avg'] = valid['Close'].ewm(span=26, adjust=False).mean()\n",
        "\n",
        "# Get MACD by dividing EMA (12 days) - EMA (26 days)\n",
        "predict_macd['macd'] = predict_macd['ema_short_avg'] - predict_macd['ema_long_avg']\n",
        "\n",
        "predict_macd['signalline'] = predict_macd['macd'].ewm(span=9, adjust=False).mean()\n",
        "\n",
        "predict_macd.dropna(inplace=True)"
      ],
      "execution_count": null,
      "outputs": []
    },
    {
      "cell_type": "code",
      "metadata": {
        "id": "DoDR0M09-VrB"
      },
      "source": [
        "print(predict_macd['signalline'].mean(), predict_macd['macd'].mean())"
      ],
      "execution_count": null,
      "outputs": []
    },
    {
      "cell_type": "code",
      "metadata": {
        "id": "1m_NxhkAelWd"
      },
      "source": [
        "def predict_falling_market():\n",
        "  future_dead_cat_bounce = np.where((predict_macd['signalline'].mean() > predict_macd['macd'].mean()) &\n",
        "                                  (indicator.signalline > indicator.macd) &\n",
        "                                  ((pct_change_close >= 0.05) | (pct_change_close <= -0.05)) &\n",
        "                                  (indicator.Open < indicator.lower_band),\n",
        "                                  True, False)\n",
        "\n",
        "  indicator['future_dead_cat_bounce'] = future_dead_cat_bounce\n",
        "\n",
        "  future_dead_cat_bounce = indicator[(indicator['future_dead_cat_bounce'] == True)]\n",
        "\n",
        "  figure_stock.add_trace(\n",
        "      go.Scatter(\n",
        "          mode='markers',\n",
        "          x=future_dead_cat_bounce.index,\n",
        "          y=future_dead_cat_bounce['Open'],\n",
        "          marker_symbol='triangle-down',\n",
        "          marker=dict(\n",
        "              color='Green',\n",
        "              size=20,\n",
        "              opacity=0.5,\n",
        "              line=dict(\n",
        "                  color='Blue',\n",
        "                  width=2)),\n",
        "          showlegend=True,\n",
        "          name='Dead Cat Bounce With Prediction'))\n",
        "\n",
        "  # push will be triggered if a Dead Cat Bounce happens \"today\"\n",
        "  if (dt.datetime.today() in future_dead_cat_bounce.index):\n",
        "    send_push('Watch out, you might run into a Dead Cat Bounce!')"
      ],
      "execution_count": null,
      "outputs": []
    },
    {
      "cell_type": "code",
      "metadata": {
        "id": "oDeQG-Ak8Bcn"
      },
      "source": [
        "predict_falling_market()"
      ],
      "execution_count": null,
      "outputs": []
    },
    {
      "cell_type": "markdown",
      "metadata": {
        "id": "we95EVe3ZHSp"
      },
      "source": [
        "# **Plot Graphs**"
      ]
    },
    {
      "cell_type": "code",
      "metadata": {
        "id": "543tZBk0K_-y"
      },
      "source": [
        "# Plot graph including dead cat bounce but without prediction\n",
        "plot_dead_cat_bounce()\n",
        "\n",
        "# Plot graphs in total\n",
        "figure_stock.show()\n",
        "figure_macd.show()\n",
        "figure_prediction.show()"
      ],
      "execution_count": null,
      "outputs": []
    }
  ]
}